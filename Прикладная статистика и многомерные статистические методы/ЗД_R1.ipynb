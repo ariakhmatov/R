{
 "cells": [
  {
   "cell_type": "markdown",
   "id": "ce60f240-a95d-462d-a056-7227866f9abe",
   "metadata": {},
   "source": [
    "## Задание 1. Создание объектов для храниея данных"
   ]
  },
  {
   "cell_type": "code",
   "execution_count": 5,
   "id": "f38bcaba-5bd8-44e6-bcf1-c20c969fac79",
   "metadata": {},
   "outputs": [
    {
     "name": "stdout",
     "output_type": "stream",
     "text": [
      " [1]  1.0  2.0  3.0  4.0  5.0  6.0  7.0  8.0  9.0 10.0  1.0  1.5  2.0  2.5  3.0\n",
      "[16]  3.5  4.0  4.5  5.0  5.5  6.0  6.5  7.0  7.5  8.0  8.5  9.0  9.5 10.0\n",
      "[1] 3 4 5\n",
      "[1] 1 4\n"
     ]
    }
   ],
   "source": [
    "#1 Ветор\n",
    "\n",
    "#1.1\n",
    "S1 = c(1,2,3,4,5,6,7,8,9,10)#ветор\n",
    "S1 = seq(1,10)\n",
    "#S1=scan()ввод дынных в консоли\n",
    "\n",
    "#1.2\n",
    "S2 = seq(from=1, to=10, by=0.5)\n",
    "\n",
    "#1.3\n",
    "S = c(S1,S2)\n",
    "print(S)\n",
    "\n",
    "#1.4\n",
    "V1 = S[3:5] #т.е присвоил V значения S в ячейках 3,4,5\n",
    "print(V1)\n",
    "\n",
    "#1.5\n",
    "V2 = S[c(1,4)]\n",
    "print(V2)\n"
   ]
  },
  {
   "cell_type": "code",
   "execution_count": 6,
   "id": "a31c351c-38fb-4587-a236-264789b1bf9a",
   "metadata": {},
   "outputs": [
    {
     "name": "stdout",
     "output_type": "stream",
     "text": [
      "'data.frame':\t4 obs. of  3 variables:\n",
      " $ City    : Factor w/ 4 levels \"Баткен\",\"Бишкек\",..: 2 4 1 3\n",
      " $ Sex     : Factor w/ 2 levels \"Ж\",\"М\": 1 2 2 1\n",
      " $ Strength: num  57849 1080 2965 42475\n"
     ]
    },
    {
     "data": {
      "text/html": [
       "<ol class=list-inline>\n",
       "\t<li>'City'</li>\n",
       "\t<li>'Sex'</li>\n",
       "\t<li>'Strength'</li>\n",
       "</ol>\n"
      ],
      "text/latex": [
       "\\begin{enumerate*}\n",
       "\\item 'City'\n",
       "\\item 'Sex'\n",
       "\\item 'Strength'\n",
       "\\end{enumerate*}\n"
      ],
      "text/markdown": [
       "1. 'City'\n",
       "2. 'Sex'\n",
       "3. 'Strength'\n",
       "\n",
       "\n"
      ],
      "text/plain": [
       "[1] \"City\"     \"Sex\"      \"Strength\""
      ]
     },
     "metadata": {},
     "output_type": "display_data"
    },
    {
     "data": {
      "text/html": [
       "<ol class=list-inline>\n",
       "\t<li>57849</li>\n",
       "\t<li>1080</li>\n",
       "\t<li>2965</li>\n",
       "</ol>\n"
      ],
      "text/latex": [
       "\\begin{enumerate*}\n",
       "\\item 57849\n",
       "\\item 1080\n",
       "\\item 2965\n",
       "\\end{enumerate*}\n"
      ],
      "text/markdown": [
       "1. 57849\n",
       "2. 1080\n",
       "3. 2965\n",
       "\n",
       "\n"
      ],
      "text/plain": [
       "[1] 57849  1080  2965"
      ]
     },
     "metadata": {},
     "output_type": "display_data"
    },
    {
     "data": {
      "text/html": [
       "<ol class=list-inline>\n",
       "\t<li>57849</li>\n",
       "\t<li>42475</li>\n",
       "</ol>\n"
      ],
      "text/latex": [
       "\\begin{enumerate*}\n",
       "\\item 57849\n",
       "\\item 42475\n",
       "\\end{enumerate*}\n"
      ],
      "text/markdown": [
       "1. 57849\n",
       "2. 42475\n",
       "\n",
       "\n"
      ],
      "text/plain": [
       "[1] 57849 42475"
      ]
     },
     "metadata": {},
     "output_type": "display_data"
    },
    {
     "data": {
      "text/html": [
       "<ol class=list-inline>\n",
       "\t<li>М</li>\n",
       "\t<li>М</li>\n",
       "</ol>\n",
       "\n",
       "<details>\n",
       "\t<summary style=display:list-item;cursor:pointer>\n",
       "\t\t<strong>Levels</strong>:\n",
       "\t</summary>\n",
       "\t<ol class=list-inline>\n",
       "\t\t<li>'Ж'</li>\n",
       "\t\t<li>'М'</li>\n",
       "\t</ol>\n",
       "</details>"
      ],
      "text/latex": [
       "\\begin{enumerate*}\n",
       "\\item М\n",
       "\\item М\n",
       "\\end{enumerate*}\n",
       "\n",
       "\\emph{Levels}: \\begin{enumerate*}\n",
       "\\item 'Ж'\n",
       "\\item 'М'\n",
       "\\end{enumerate*}\n"
      ],
      "text/markdown": [
       "1. М\n",
       "2. М\n",
       "\n",
       "\n",
       "\n",
       "**Levels**: 1. 'Ж'\n",
       "2. 'М'\n",
       "\n",
       "\n"
      ],
      "text/plain": [
       "[1] М М\n",
       "Levels: Ж М"
      ]
     },
     "metadata": {},
     "output_type": "display_data"
    },
    {
     "data": {
      "text/html": [
       "<table>\n",
       "<thead><tr><th scope=col>City</th><th scope=col>Sex</th><th scope=col>Strength</th></tr></thead>\n",
       "<tbody>\n",
       "\t<tr><td>Бишкек</td><td>Ж     </td><td>57849 </td></tr>\n",
       "</tbody>\n",
       "</table>\n"
      ],
      "text/latex": [
       "\\begin{tabular}{r|lll}\n",
       " City & Sex & Strength\\\\\n",
       "\\hline\n",
       "\t Бишкек & Ж      & 57849 \\\\\n",
       "\\end{tabular}\n"
      ],
      "text/markdown": [
       "\n",
       "| City | Sex | Strength |\n",
       "|---|---|---|\n",
       "| Бишкек | Ж      | 57849  |\n",
       "\n"
      ],
      "text/plain": [
       "  City   Sex Strength\n",
       "1 Бишкек Ж   57849   "
      ]
     },
     "metadata": {},
     "output_type": "display_data"
    },
    {
     "data": {
      "text/html": [
       "<table>\n",
       "<thead><tr><th></th><th scope=col>City</th><th scope=col>Sex</th><th scope=col>Strength</th></tr></thead>\n",
       "<tbody>\n",
       "\t<tr><th scope=row>3</th><td>Баткен</td><td>М     </td><td> 2965 </td></tr>\n",
       "\t<tr><th scope=row>4</th><td>Ош    </td><td>Ж     </td><td>42475 </td></tr>\n",
       "</tbody>\n",
       "</table>\n"
      ],
      "text/latex": [
       "\\begin{tabular}{r|lll}\n",
       "  & City & Sex & Strength\\\\\n",
       "\\hline\n",
       "\t3 & Баткен & М      &  2965 \\\\\n",
       "\t4 & Ош     & Ж      & 42475 \\\\\n",
       "\\end{tabular}\n"
      ],
      "text/markdown": [
       "\n",
       "| <!--/--> | City | Sex | Strength |\n",
       "|---|---|---|---|\n",
       "| 3 | Баткен | М      |  2965  |\n",
       "| 4 | Ош     | Ж      | 42475  |\n",
       "\n"
      ],
      "text/plain": [
       "  City   Sex Strength\n",
       "3 Баткен М    2965   \n",
       "4 Ош     Ж   42475   "
      ]
     },
     "metadata": {},
     "output_type": "display_data"
    }
   ],
   "source": [
    "#2.Таблица\n",
    "\n",
    "#2.1\n",
    "city = c('Бишкек','Чолпон-Ата','Баткен','Ош')\n",
    "sex = c('Ж','М','М','Ж')\n",
    "strength = c(57849, 1080, 2965, 42475)\n",
    "\n",
    "#2.3\n",
    "CITY = data.frame(City = city, Sex = sex, Strength = strength)\n",
    "\n",
    "#2.4\n",
    "str(CITY)\n",
    "names(CITY)\n",
    "CITY$Strength[1:3]\n",
    "\n",
    "#2.7\n",
    "CITY$Strength[c(1,4)]#извелк значения выше 3000\n",
    "\n",
    "#2.8\n",
    "CITY$Sex[c(2,3)]\n",
    "\n",
    "#2.9\n",
    "head(CITY, n = 1)#n это количество чего нужно показать с начала \n",
    "tail(CITY, n = 2)# n это количество чего нужно показать с конца "
   ]
  },
  {
   "cell_type": "code",
   "execution_count": 7,
   "id": "c14458dc-d076-4b31-a590-9dcc7f45668b",
   "metadata": {},
   "outputs": [
    {
     "data": {
      "text/html": [
       "0"
      ],
      "text/latex": [
       "0"
      ],
      "text/markdown": [
       "0"
      ],
      "text/plain": [
       "[1] 0"
      ]
     },
     "metadata": {},
     "output_type": "display_data"
    }
   ],
   "source": [
    "#3 Матрицы \n",
    "\n",
    "#3.1\n",
    "m1 = seq(1,16)\n",
    "dim(m1) = c(2,8)\n",
    "\n",
    "#3.2\n",
    "m2 = matrix(seq(1,24), nrow = 4, ncol = 6)\n",
    "\n",
    "#3.3\n",
    "m3 = t(m2)\n",
    "\n",
    "#3.4\n",
    "m4 = matrix(seq(1,16),nrow = 4, ncol = 4)\n",
    "det(m4)"
   ]
  },
  {
   "cell_type": "code",
   "execution_count": 8,
   "id": "d142af19-e5bc-4cd3-9b68-20083a9dc94c",
   "metadata": {},
   "outputs": [
    {
     "name": "stdout",
     "output_type": "stream",
     "text": [
      "     [,1] [,2] [,3] [,4]\n",
      "[1,]    1    7   13   19\n",
      "[2,]    2    8   14   20\n",
      "[3,]    3    9   15   21\n",
      "[4,]    4   10   16   22\n",
      "[5,]    5   11   17   23\n",
      "[6,]    6   12   18   24\n"
     ]
    },
    {
     "data": {
      "text/html": [
       "TRUE"
      ],
      "text/latex": [
       "TRUE"
      ],
      "text/markdown": [
       "TRUE"
      ],
      "text/plain": [
       "[1] TRUE"
      ]
     },
     "metadata": {},
     "output_type": "display_data"
    }
   ],
   "source": [
    "#4 Массив\n",
    "\n",
    "#4.1\n",
    "M1=array(c(1:24),dim=c(6,4))\n",
    "print(M1)\n",
    "\n",
    "#4.2\n",
    "is.array(M1)"
   ]
  },
  {
   "cell_type": "code",
   "execution_count": null,
   "id": "78a47e18-dcd7-416b-95b1-6bb635658a9d",
   "metadata": {},
   "outputs": [],
   "source": [
    "#5 Список \n",
    "\n",
    "#5.1\n",
    "cc = seq(1:6)\n",
    "cy = rep(c('true','false'),3)\n",
    "L1 = list(cc,cy) #L1=list(1,2,3,4,5,6,'true','false')\n",
    "\n",
    "#5.2\n",
    "names(L1) = c('int','bool')\n",
    "print(L1)"
   ]
  },
  {
   "cell_type": "code",
   "execution_count": 9,
   "id": "e5048000-06ec-4b72-b7b7-56ce3784a867",
   "metadata": {},
   "outputs": [
    {
     "data": {
      "text/html": [
       "<ol class=list-inline>\n",
       "\t<li>yes</li>\n",
       "\t<li>no</li>\n",
       "\t<li>parhaps</li>\n",
       "\t<li>yes</li>\n",
       "\t<li>no</li>\n",
       "\t<li>parhaps</li>\n",
       "</ol>\n",
       "\n",
       "<details>\n",
       "\t<summary style=display:list-item;cursor:pointer>\n",
       "\t\t<strong>Levels</strong>:\n",
       "\t</summary>\n",
       "\t<ol class=list-inline>\n",
       "\t\t<li>'yes'</li>\n",
       "\t\t<li>'no'</li>\n",
       "\t\t<li>'parhaps'</li>\n",
       "\t</ol>\n",
       "</details>"
      ],
      "text/latex": [
       "\\begin{enumerate*}\n",
       "\\item yes\n",
       "\\item no\n",
       "\\item parhaps\n",
       "\\item yes\n",
       "\\item no\n",
       "\\item parhaps\n",
       "\\end{enumerate*}\n",
       "\n",
       "\\emph{Levels}: \\begin{enumerate*}\n",
       "\\item 'yes'\n",
       "\\item 'no'\n",
       "\\item 'parhaps'\n",
       "\\end{enumerate*}\n"
      ],
      "text/markdown": [
       "1. yes\n",
       "2. no\n",
       "3. parhaps\n",
       "4. yes\n",
       "5. no\n",
       "6. parhaps\n",
       "\n",
       "\n",
       "\n",
       "**Levels**: 1. 'yes'\n",
       "2. 'no'\n",
       "3. 'parhaps'\n",
       "\n",
       "\n"
      ],
      "text/plain": [
       "[1] yes     no      parhaps yes     no      parhaps\n",
       "Levels: yes no parhaps"
      ]
     },
     "metadata": {},
     "output_type": "display_data"
    }
   ],
   "source": [
    "#6 Фактор \n",
    "\n",
    "#6.1\n",
    "f = rep(c('yes','no','parhaps'),2)\n",
    "f = factor(f,levels = c(c('yes','no','parhaps')))\n",
    "f"
   ]
  },
  {
   "cell_type": "code",
   "execution_count": 10,
   "id": "0f0b4086-a57d-429f-807e-c573ce26dd37",
   "metadata": {},
   "outputs": [
    {
     "data": {
      "text/html": [
       "<table>\n",
       "<thead><tr><th scope=col>b</th><th scope=col>d</th><th scope=col>e</th></tr></thead>\n",
       "<tbody>\n",
       "\t<tr><td>a     </td><td>FALSE </td><td>soft  </td></tr>\n",
       "\t<tr><td>b     </td><td> TRUE </td><td>hard  </td></tr>\n",
       "\t<tr><td>c     </td><td>FALSE </td><td>soft  </td></tr>\n",
       "\t<tr><td>a     </td><td> TRUE </td><td>medium</td></tr>\n",
       "</tbody>\n",
       "</table>\n"
      ],
      "text/latex": [
       "\\begin{tabular}{r|lll}\n",
       " b & d & e\\\\\n",
       "\\hline\n",
       "\t a      & FALSE  & soft  \\\\\n",
       "\t b      &  TRUE  & hard  \\\\\n",
       "\t c      & FALSE  & soft  \\\\\n",
       "\t a      &  TRUE  & medium\\\\\n",
       "\\end{tabular}\n"
      ],
      "text/markdown": [
       "\n",
       "| b | d | e |\n",
       "|---|---|---|\n",
       "| a      | FALSE  | soft   |\n",
       "| b      |  TRUE  | hard   |\n",
       "| c      | FALSE  | soft   |\n",
       "| a      |  TRUE  | medium |\n",
       "\n"
      ],
      "text/plain": [
       "  b d     e     \n",
       "1 a FALSE soft  \n",
       "2 b  TRUE hard  \n",
       "3 c FALSE soft  \n",
       "4 a  TRUE medium"
      ]
     },
     "metadata": {},
     "output_type": "display_data"
    }
   ],
   "source": [
    "#7 Фрейм\n",
    "\n",
    "#7.1\n",
    "b = c('a','b','c','a')\n",
    "d = (1:4%%2==0)\n",
    "e = factor(c('soft','hard','soft','medium'))\n",
    "data.frame(b,d,e)"
   ]
  }
 ],
 "metadata": {
  "kernelspec": {
   "display_name": "R",
   "language": "R",
   "name": "ir"
  },
  "language_info": {
   "codemirror_mode": "r",
   "file_extension": ".r",
   "mimetype": "text/x-r-source",
   "name": "R",
   "pygments_lexer": "r",
   "version": "3.6.1"
  }
 },
 "nbformat": 4,
 "nbformat_minor": 5
}
