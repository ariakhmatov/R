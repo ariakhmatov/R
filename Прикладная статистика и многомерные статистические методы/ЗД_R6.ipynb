{
 "cells": [
  {
   "cell_type": "markdown",
   "id": "7ecccd8d-7c72-44a0-9f87-0d591dd8d30f",
   "metadata": {},
   "source": [
    "# Задание 6. Факторный анализ "
   ]
  },
  {
   "cell_type": "code",
   "execution_count": 17,
   "id": "e1d0e29b-5a02-4bce-833b-2abc5860a84a",
   "metadata": {},
   "outputs": [
    {
     "data": {
      "text/html": [
       "<ol class=list-inline>\n",
       "\t<li>'WORK_1'</li>\n",
       "\t<li>'WORK_2'</li>\n",
       "\t<li>'WORK_3'</li>\n",
       "\t<li>'HOBBY_1'</li>\n",
       "\t<li>'HOBBY_2'</li>\n",
       "\t<li>'HOME_1'</li>\n",
       "\t<li>'HOME_2'</li>\n",
       "\t<li>'HOME_3'</li>\n",
       "\t<li>'MISCEL_1'</li>\n",
       "\t<li>'MISCEL_2'</li>\n",
       "</ol>\n"
      ],
      "text/latex": [
       "\\begin{enumerate*}\n",
       "\\item 'WORK\\_1'\n",
       "\\item 'WORK\\_2'\n",
       "\\item 'WORK\\_3'\n",
       "\\item 'HOBBY\\_1'\n",
       "\\item 'HOBBY\\_2'\n",
       "\\item 'HOME\\_1'\n",
       "\\item 'HOME\\_2'\n",
       "\\item 'HOME\\_3'\n",
       "\\item 'MISCEL\\_1'\n",
       "\\item 'MISCEL\\_2'\n",
       "\\end{enumerate*}\n"
      ],
      "text/markdown": [
       "1. 'WORK_1'\n",
       "2. 'WORK_2'\n",
       "3. 'WORK_3'\n",
       "4. 'HOBBY_1'\n",
       "5. 'HOBBY_2'\n",
       "6. 'HOME_1'\n",
       "7. 'HOME_2'\n",
       "8. 'HOME_3'\n",
       "9. 'MISCEL_1'\n",
       "10. 'MISCEL_2'\n",
       "\n",
       "\n"
      ],
      "text/plain": [
       " [1] \"WORK_1\"   \"WORK_2\"   \"WORK_3\"   \"HOBBY_1\"  \"HOBBY_2\"  \"HOME_1\"  \n",
       " [7] \"HOME_2\"   \"HOME_3\"   \"MISCEL_1\" \"MISCEL_2\""
      ]
     },
     "metadata": {},
     "output_type": "display_data"
    },
    {
     "name": "stderr",
     "output_type": "stream",
     "text": [
      "The following objects are masked from FactorAn (pos = 3):\n",
      "\n",
      "    HOBBY_1, HOBBY_2, HOME_1, HOME_2, HOME_3, MISCEL_1, MISCEL_2,\n",
      "    WORK_1, WORK_2, WORK_3\n",
      "\n",
      "The following objects are masked from FactorAn (pos = 4):\n",
      "\n",
      "    HOBBY_1, HOBBY_2, HOME_1, HOME_2, HOME_3, MISCEL_1, MISCEL_2,\n",
      "    WORK_1, WORK_2, WORK_3\n",
      "\n",
      "The following objects are masked from FactorAn (pos = 5):\n",
      "\n",
      "    HOBBY_1, HOBBY_2, HOME_1, HOME_2, HOME_3, MISCEL_1, MISCEL_2,\n",
      "    WORK_1, WORK_2, WORK_3\n",
      "\n",
      "The following objects are masked from FactorAn (pos = 6):\n",
      "\n",
      "    HOBBY_1, HOBBY_2, HOME_1, HOME_2, HOME_3, MISCEL_1, MISCEL_2,\n",
      "    WORK_1, WORK_2, WORK_3\n",
      "\n"
     ]
    },
    {
     "data": {
      "text/html": [],
      "text/latex": [],
      "text/markdown": [],
      "text/plain": [
       "integer(0)"
      ]
     },
     "metadata": {},
     "output_type": "display_data"
    },
    {
     "data": {
      "text/plain": [
       "     WORK_1       WORK_2       WORK_3      HOBBY_1      HOBBY_2       HOME_1  \n",
       " 100,235: 1   100,09 : 1   100,014: 1   100,236: 1   100,519: 1   100,248: 1  \n",
       " 100,315: 1   100,672: 1   100,771: 1   100,325: 1   100,906: 1   100,281: 1  \n",
       " 100,583: 1   100,957: 1   101,209: 1   100,333: 1   101,011: 1   100,653: 1  \n",
       " 100,77 : 1   101,659: 1   101,445: 1   100,471: 1   102,275: 1   101,226: 1  \n",
       " 102,064: 1   102,019: 1   101,852: 1   100,95 : 1   103,378: 1   102,028: 1  \n",
       " 102,719: 1   102,803: 1   101,991: 1   100,998: 1   104,911: 1   102,552: 1  \n",
       " (Other):94   (Other):94   (Other):94   (Other):94   (Other):94   (Other):94  \n",
       "     HOME_2       HOME_3      MISCEL_1     MISCEL_2 \n",
       " 100,333: 1   100,046: 1   100,053: 1   100,326: 1  \n",
       " 100,768: 1   100,099: 1   100,138: 1   100,674: 1  \n",
       " 100,885: 1   100,411: 1   100,425: 1   101,363: 1  \n",
       " 101,343: 1   100,853: 1   100,741: 1   102,11 : 1  \n",
       " 101,465: 1   101,714: 1   101,224: 1   105,168: 1  \n",
       " 101,615: 1   102,109: 1   102,015: 1   105,198: 1  \n",
       " (Other):94   (Other):94   (Other):94   (Other):94  "
      ]
     },
     "metadata": {},
     "output_type": "display_data"
    }
   ],
   "source": [
    "#Провести факторный анализ с числом факторов 2 и 3.\n",
    "\n",
    "FactorAn = read.csv(file = 'data/FactorAn.csv', sep = ';') \n",
    "\n",
    "names(FactorAn)\n",
    "\n",
    "attach(FactorAn)\n",
    "\n",
    "which(is.na(FactorAn)==T)\n",
    "\n",
    "summary(FactorAn)\n",
    "\n",
    "#с массивом все в порядке"
   ]
  },
  {
   "cell_type": "code",
   "execution_count": 18,
   "id": "0b2a017c-147c-4b16-b1d7-2424dd76dc34",
   "metadata": {},
   "outputs": [
    {
     "ename": "ERROR",
     "evalue": "Error in factanal(FactorAn, 2): factor analysis applies only to numerical variables\n",
     "output_type": "error",
     "traceback": [
      "Error in factanal(FactorAn, 2): factor analysis applies only to numerical variables\nTraceback:\n",
      "1. factanal(FactorAn, 2)",
      "2. stop(\"factor analysis applies only to numerical variables\")"
     ]
    }
   ],
   "source": [
    "factanal(FactorAn, 2 )\n",
    "\n",
    "# Loadings:\n",
    "#          Factor1 Factor2\n",
    "# WORK_1   0.755!          \n",
    "# WORK_2   0.887!          \n",
    "# WORK_3   0.812!  0.127  \n",
    "# HOBBY_1  0.728!  0.598!  \n",
    "# HOBBY_2  0.718!  0.462  \n",
    "# HOME_1   0.119   0.720!  \n",
    "# HOME_2   0.136   0.909!  \n",
    "# HOME_3   0.175   0.771!  \n",
    "# MISCEL_1 0.755!  0.588!  \n",
    "# MISCEL_2 0.719!  0.524! \n",
    "\n",
    "# Из таблицы нагрузок видно что при 1 факторе объединены WORK_1,2,3 , HOBBY_1,2 и MISCEL_1,2 тк коэф корр. больше 0.05\n",
    "# а из 2 фактора HOBBY_1, HOME_1,2,3 и MISCEL_1,2\n",
    "\n",
    "#                  Factor1 Factor2\n",
    "# SS loadings      4.213   3.156\n",
    "# Proportion Var   0.421   0.316\n",
    "# Cumulative Var   0.421   0.737\n",
    "\n",
    "# Из доли объесняемой демперсии видим что в сумме 2 факторов объесняют 73% (0.737) разброса данных\n",
    "# при этом 1 фактор отвечает за 42%\n",
    "\n",
    "#Принадлежность перемменых к фактору 1 (WORK_3; HOBBY_1,2; MISCEL_1,2) а к фактору 2 (HOME_1,2,3)\n",
    "\n",
    "# Test of the hypothesis that 2 factors are sufficient.\n",
    "# The chi square statistic is 18.29 on 26 degrees of freedom.\n",
    "# The p-value is 0.865  \n",
    "\n",
    "#интерпретируем результаты: \n",
    "#Ф1 объединяет удовлетвореность на работе, в хобби, и другими областями.\n",
    "#Ф2 объединяет удовлетворенность в хибби , домашней жизнью и другими областями. "
   ]
  },
  {
   "cell_type": "code",
   "execution_count": 10,
   "id": "b3d633cc-cd7a-4720-bfad-8d092590f51b",
   "metadata": {},
   "outputs": [
    {
     "ename": "ERROR",
     "evalue": "Error in factanal(FactorAn, 3): factor analysis applies only to numerical variables\n",
     "output_type": "error",
     "traceback": [
      "Error in factanal(FactorAn, 3): factor analysis applies only to numerical variables\nTraceback:\n",
      "1. factanal(FactorAn, 3)",
      "2. stop(\"factor analysis applies only to numerical variables\")"
     ]
    }
   ],
   "source": [
    "factanal(FactorAn, 3 )\n",
    "\n",
    "# Loadings:\n",
    "#           Factor1 Factor2 Factor3\n",
    "# WORK_1    0.749!                 \n",
    "# WORK_2    0.883!                 \n",
    "# WORK_3    0.815!  0.123         \n",
    "# HOBBY_1   0.735!  0.579!  0.106 \n",
    "# HOBBY_2   0.717!  0.445   0.257 \n",
    "# HOME_1            0.728!  0.425 \n",
    "# HOME_2    0.143   0.938!         \n",
    "# HOME_3    0.192   0.755!         \n",
    "# MISCEL_1  0.766!  0.573!         \n",
    "# MISCEL_2  0.732!  0.514!\n",
    " \n",
    "# Из таблицы нагрузок видно что при 1 факторе объединены WORK_1,2,3; HOBBY_1,2 и MISCEL_1,2 тк коэф корр. больше 0.05\n",
    "# из 2 фактора HOBBY_1; HOME_1,2,3; MISCEL_1,2 а 3 фактор ничего.\n",
    "\n",
    "#                  Factor1 Factor2 Factor3\n",
    "# SS loadings      4.247   3.127   0.277\n",
    "# Proportion Var   0.425   0.313   0.028\n",
    "# Cumulative Var   0.425   0.737   0.765\n",
    "\n",
    "# Из доли объесняемой демперсии видим что в сумме 3 факторов объесняют 76% (0.765) разброса данных\n",
    "# при этом 2 фактор отвечает за 73% и 1 за 42%.\n",
    "\n",
    "#Принадлежность перемменых к фактору 1 (HOBBY_1,2)\n",
    "\n",
    "# Test of the hypothesis that 3 factors are sufficient.\n",
    "# The chi square statistic is 9.9 on 18 degrees of freedom.\n",
    "# The p-value is 0.935 \n",
    "\n",
    "#интерпретируем результаты:\n",
    "#Ф1 объединяет удовлетвореность на работе, в хобби,и другими областями .\n",
    "#Ф2 обединяет удовлетворенность в хобби, домашней жизнью и другими областями.\n",
    "#ф3 не объединяет удовлетворенность не одним из переменных. "
   ]
  },
  {
   "cell_type": "code",
   "execution_count": null,
   "id": "deba5ee1-09b3-4b3c-bf2b-8ec96eed51d7",
   "metadata": {},
   "outputs": [],
   "source": []
  }
 ],
 "metadata": {
  "kernelspec": {
   "display_name": "R",
   "language": "R",
   "name": "ir"
  },
  "language_info": {
   "codemirror_mode": "r",
   "file_extension": ".r",
   "mimetype": "text/x-r-source",
   "name": "R",
   "pygments_lexer": "r",
   "version": "3.6.1"
  }
 },
 "nbformat": 4,
 "nbformat_minor": 5
}
