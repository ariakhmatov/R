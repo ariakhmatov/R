{
 "cells": [
  {
   "cell_type": "markdown",
   "id": "35a4a812-5f4c-4896-a4ea-6ffbebbd4c9f",
   "metadata": {},
   "source": [
    "# Задание 4. Работа с CSV"
   ]
  },
  {
   "cell_type": "code",
   "execution_count": 14,
   "id": "a5a88d42-3f4e-48da-a771-399cf9f21d0e",
   "metadata": {},
   "outputs": [
    {
     "data": {
      "text/html": [
       "<ol class=list-inline>\n",
       "\t<li>'Date'</li>\n",
       "\t<li>'Gold'</li>\n",
       "\t<li>'Dollar'</li>\n",
       "</ol>\n"
      ],
      "text/latex": [
       "\\begin{enumerate*}\n",
       "\\item 'Date'\n",
       "\\item 'Gold'\n",
       "\\item 'Dollar'\n",
       "\\end{enumerate*}\n"
      ],
      "text/markdown": [
       "1. 'Date'\n",
       "2. 'Gold'\n",
       "3. 'Dollar'\n",
       "\n",
       "\n"
      ],
      "text/plain": [
       "[1] \"Date\"   \"Gold\"   \"Dollar\""
      ]
     },
     "metadata": {},
     "output_type": "display_data"
    },
    {
     "data": {
      "image/png": "[encoded data removed]",
      "text/plain": [
       "Plot with title \"Динамика курса золота\""
      ]
     },
     "metadata": {},
     "output_type": "display_data"
    }
   ],
   "source": [
    "#2. \n",
    "dynamics = read.csv(file = 'data/dynamics.csv', sep = ';') \n",
    "\n",
    "names(dynamics)\n",
    "attach(dynamics)#напрямую обращаться к переменным таблицы\n",
    "\n",
    "data = dynamics$Date\n",
    "\n",
    "par(mfrow=c(2,1))\n",
    "\n",
    "plot(Dollar, col=\"red\", pch = 16 ,cex = 0.5, main = \"Динамика курса доллара\", xlab=\"Date\", ylab=\"Dollar\", type = \"o\")\n",
    "\n",
    "plot(Gold, col= \"forestgreen\" , pch = 16 ,cex = 0.5, main = \"Динамика курса золота\", xlab=\"Date\", ylab=\"Gold\", type = \"o\")"
   ]
  },
  {
   "cell_type": "code",
   "execution_count": 15,
   "id": "54b90045-9d75-4539-9a4b-aa3ee33b599a",
   "metadata": {},
   "outputs": [
    {
     "data": {
      "image/png": "[encoded data removed]",
      "text/plain": [
       "Plot with title \"Кривая плотности вероятности\""
      ]
     },
     "metadata": {},
     "output_type": "display_data"
    }
   ],
   "source": [
    "#3. \n",
    "\n",
    "par(mfrow=c(2,1))\n",
    "plot(density(Dollar),col=\"red\", pch = 16 ,cex = 0.5, main = \"Кривая плотности вероятности\", xlab=\"Dollar\", ylab=\"Density\")\n",
    "plot(density(Gold),col=\"forestgreen\", pch = 16 ,cex = 0.5, main = \"Кривая плотности вероятности\", xlab=\"Gold\", ylab=\"Density\")"
   ]
  },
  {
   "cell_type": "code",
   "execution_count": 17,
   "id": "8d26eccf-684a-4947-8e49-b029d758c8dc",
   "metadata": {},
   "outputs": [
    {
     "data": {
      "text/plain": [
       "\n",
       "\tShapiro-Wilk normality test\n",
       "\n",
       "data:  Dollar\n",
       "W = 0.84686, p-value = 9.726e-07\n"
      ]
     },
     "metadata": {},
     "output_type": "display_data"
    },
    {
     "data": {
      "text/plain": [
       "\n",
       "\tShapiro-Wilk normality test\n",
       "\n",
       "data:  Gold\n",
       "W = 0.87194, p-value = 6.17e-06\n"
      ]
     },
     "metadata": {},
     "output_type": "display_data"
    }
   ],
   "source": [
    "#4.\n",
    "# тест Шапиро-Уилка проверка на нармольность \n",
    "shapiro.test(Dollar)\n",
    "shapiro.test(Gold)\n",
    "\n",
    "#data:  Dollar\n",
    "#W = 0.84686, p-value = 9.726e-07 => гипотеза отвергается т.к <0,05\n",
    "\n",
    "#data:  Gold\n",
    "#W = 0.87194, p-value = 6.17e-06 => гипотеза отвергается т.к <0,05"
   ]
  },
  {
   "cell_type": "code",
   "execution_count": 19,
   "id": "78fa3886-8851-4d8c-a828-e50f9a3dfb02",
   "metadata": {},
   "outputs": [
    {
     "name": "stderr",
     "output_type": "stream",
     "text": [
      "Warning message in chisq.test(Dollar, Gold):\n",
      "\"Chi-squared approximation may be incorrect\""
     ]
    },
    {
     "data": {
      "text/plain": [
       "\n",
       "\tPearson's Chi-squared test\n",
       "\n",
       "data:  Dollar and Gold\n",
       "X-squared = 4290, df = 4225, p-value = 0.2386\n"
      ]
     },
     "metadata": {},
     "output_type": "display_data"
    },
    {
     "data": {
      "text/html": [
       "0.935242618880138"
      ],
      "text/latex": [
       "0.935242618880138"
      ],
      "text/markdown": [
       "0.935242618880138"
      ],
      "text/plain": [
       "[1] 0.9352426"
      ]
     },
     "metadata": {},
     "output_type": "display_data"
    },
    {
     "data": {
      "text/html": [
       "0.834032634032634"
      ],
      "text/latex": [
       "0.834032634032634"
      ],
      "text/markdown": [
       "0.834032634032634"
      ],
      "text/plain": [
       "[1] 0.8340326"
      ]
     },
     "metadata": {},
     "output_type": "display_data"
    },
    {
     "data": {
      "text/html": [
       "0.951821313015343"
      ],
      "text/latex": [
       "0.951821313015343"
      ],
      "text/markdown": [
       "0.951821313015343"
      ],
      "text/plain": [
       "[1] 0.9518213"
      ]
     },
     "metadata": {},
     "output_type": "display_data"
    }
   ],
   "source": [
    "#Тогда \n",
    "chisq.test(Dollar, Gold)\n",
    "\n",
    "cor(Dollar, Gold, method = c('pearson'))\n",
    "cor(Dollar, Gold, method = c('kendall'))\n",
    "cor(Dollar, Gold, method = c('spearman'))\n",
    "# знак положительный значит прямая зависимость, близкое значение к 1 означает о сильной связи между переменными"
   ]
  },
  {
   "cell_type": "code",
   "execution_count": 20,
   "id": "59f22c81-192a-48c2-b9dc-f1a6f0808079",
   "metadata": {},
   "outputs": [
    {
     "data": {
      "text/plain": [
       "\n",
       "\tWelch Two Sample t-test\n",
       "\n",
       "data:  Dollar and Gold\n",
       "t = -74.86, df = 65.037, p-value < 2.2e-16\n",
       "alternative hypothesis: true difference in means is not equal to 0\n",
       "95 percent confidence interval:\n",
       " -3505.384 -3323.210\n",
       "sample estimates:\n",
       " mean of x  mean of y \n",
       "  67.82197 3482.11924 \n"
      ]
     },
     "metadata": {},
     "output_type": "display_data"
    }
   ],
   "source": [
    "t.test(Dollar, Gold)\n",
    "#data:  Dollar and Gold\n",
    "#t = -74.86, df = 65.037, p-value < 2.2e-16 => т.к <0,05 то гипотезу о равенстве средних отвергается"
   ]
  },
  {
   "cell_type": "code",
   "execution_count": 25,
   "id": "d7337923-27a0-440b-bcfa-21c764ccf51c",
   "metadata": {},
   "outputs": [
    {
     "name": "stderr",
     "output_type": "stream",
     "text": [
      "The following objects are masked from trees (pos = 3):\n",
      "\n",
      "    Girth, Height, Volume\n",
      "\n",
      "The following objects are masked from trees (pos = 4):\n",
      "\n",
      "    Girth, Height, Volume\n",
      "\n",
      "The following objects are masked from trees (pos = 5):\n",
      "\n",
      "    Girth, Height, Volume\n",
      "\n"
     ]
    },
    {
     "data": {
      "text/html": [
       "<table>\n",
       "<thead><tr><th></th><th scope=col>Girth</th><th scope=col>Height</th><th scope=col>Volume</th></tr></thead>\n",
       "<tbody>\n",
       "\t<tr><th scope=row>Girth</th><td>1.0000000</td><td>0.5192801</td><td>0.9671194</td></tr>\n",
       "\t<tr><th scope=row>Height</th><td>0.5192801</td><td>1.0000000</td><td>0.5982497</td></tr>\n",
       "\t<tr><th scope=row>Volume</th><td>0.9671194</td><td>0.5982497</td><td>1.0000000</td></tr>\n",
       "</tbody>\n",
       "</table>\n"
      ],
      "text/latex": [
       "\\begin{tabular}{r|lll}\n",
       "  & Girth & Height & Volume\\\\\n",
       "\\hline\n",
       "\tGirth & 1.0000000 & 0.5192801 & 0.9671194\\\\\n",
       "\tHeight & 0.5192801 & 1.0000000 & 0.5982497\\\\\n",
       "\tVolume & 0.9671194 & 0.5982497 & 1.0000000\\\\\n",
       "\\end{tabular}\n"
      ],
      "text/markdown": [
       "\n",
       "| <!--/--> | Girth | Height | Volume |\n",
       "|---|---|---|---|\n",
       "| Girth | 1.0000000 | 0.5192801 | 0.9671194 |\n",
       "| Height | 0.5192801 | 1.0000000 | 0.5982497 |\n",
       "| Volume | 0.9671194 | 0.5982497 | 1.0000000 |\n",
       "\n"
      ],
      "text/plain": [
       "       Girth     Height    Volume   \n",
       "Girth  1.0000000 0.5192801 0.9671194\n",
       "Height 0.5192801 1.0000000 0.5982497\n",
       "Volume 0.9671194 0.5982497 1.0000000"
      ]
     },
     "metadata": {},
     "output_type": "display_data"
    }
   ],
   "source": [
    "#5.\n",
    "#trees\n",
    "attach(trees)#напрямую обращаться к переменным таблицы\n",
    "cor(trees, method = c('pearson'))\n",
    "\n",
    "#        Girth    Height    Volume\n",
    "#Girth  1.0000000 0.5192801 0.9671194\n",
    "#Height 0.5192801 1.0000000 0.5982497\n",
    "#Volume 0.9671194 0.5982497 1.0000000\n",
    "\n",
    "# по таблице корреляции Пирсона можно увидеть что между Volume и Girth \n",
    "#существует сильная положительная кореляция, а между Height и Volume умеренная + корреляция и тд"
   ]
  },
  {
   "cell_type": "code",
   "execution_count": 26,
   "id": "4b409818-ee0c-4d45-ab05-a4878b19e3e8",
   "metadata": {},
   "outputs": [
    {
     "data": {
      "image/png": "[encoded data removed]",
      "text/plain": [
       "plot without title"
      ]
     },
     "metadata": {},
     "output_type": "display_data"
    }
   ],
   "source": [
    "#6.\n",
    "#Линейные графики отражают связь между зависимой и независимой переменной. \n",
    "\n",
    "par(mfrow=c(3,1))\n",
    "plot(Girth, Height, type=\"l\")\n",
    "plot(Girth, Volume, type=\"l\")\n",
    "plot(Height, Volume, type=\"l\")"
   ]
  },
  {
   "cell_type": "code",
   "execution_count": 27,
   "id": "c9810b43-bf67-4890-8003-4a605e383972",
   "metadata": {
    "collapsed": true,
    "jupyter": {
     "outputs_hidden": true
    },
    "tags": []
   },
   "outputs": [
    {
     "data": {
      "text/html": [
       "<table>\n",
       "<thead><tr><th></th><th scope=col>Girth</th><th scope=col>Height</th><th scope=col>Volume</th></tr></thead>\n",
       "<tbody>\n",
       "\t<tr><th scope=row>Girth</th><td> 9.847914</td><td>10.38333 </td><td> 49.88812</td></tr>\n",
       "\t<tr><th scope=row>Height</th><td>10.383333</td><td>40.60000 </td><td> 62.66000</td></tr>\n",
       "\t<tr><th scope=row>Volume</th><td>49.888118</td><td>62.66000 </td><td>270.20280</td></tr>\n",
       "</tbody>\n",
       "</table>\n"
      ],
      "text/latex": [
       "\\begin{tabular}{r|lll}\n",
       "  & Girth & Height & Volume\\\\\n",
       "\\hline\n",
       "\tGirth &  9.847914 & 10.38333  &  49.88812\\\\\n",
       "\tHeight & 10.383333 & 40.60000  &  62.66000\\\\\n",
       "\tVolume & 49.888118 & 62.66000  & 270.20280\\\\\n",
       "\\end{tabular}\n"
      ],
      "text/markdown": [
       "\n",
       "| <!--/--> | Girth | Height | Volume |\n",
       "|---|---|---|---|\n",
       "| Girth |  9.847914 | 10.38333  |  49.88812 |\n",
       "| Height | 10.383333 | 40.60000  |  62.66000 |\n",
       "| Volume | 49.888118 | 62.66000  | 270.20280 |\n",
       "\n"
      ],
      "text/plain": [
       "       Girth     Height   Volume   \n",
       "Girth   9.847914 10.38333  49.88812\n",
       "Height 10.383333 40.60000  62.66000\n",
       "Volume 49.888118 62.66000 270.20280"
      ]
     },
     "metadata": {},
     "output_type": "display_data"
    }
   ],
   "source": [
    "#7.\n",
    "cov(trees)\n",
    "#таблица ковариации\n",
    "\n",
    "#        Girth   Height    Volume\n",
    "#Girth   9.847914 10.38333  49.88812\n",
    "#Height 10.383333 40.60000  62.66000\n",
    "#Volume 49.888118 62.66000 270.20280\n",
    "\n",
    "# из полученных результатов можно сделать ввывод что что все величины зависимы."
   ]
  },
  {
   "cell_type": "code",
   "execution_count": 1,
   "id": "22ee8b2c-ba78-42b2-ac37-c82781163003",
   "metadata": {},
   "outputs": [
    {
     "name": "stderr",
     "output_type": "stream",
     "text": [
      "Warning message:\n",
      "\"package 'gclus' was built under R version 4.3.0\"Loading required package: cluster\n"
     ]
    },
    {
     "data": {
      "image/png": "[encoded data removed]",
      "text/plain": [
       "plot without title"
      ]
     },
     "metadata": {},
     "output_type": "display_data"
    }
   ],
   "source": [
    "#8.\n",
    "\n",
    "library(gclus)\n",
    "\n",
    "coeffs = abs(cor(trees))\n",
    "\n",
    "colors = dmat.color(coeffs)\n",
    "\n",
    "order = order.single(coeffs)\n",
    "\n",
    "cpairs(trees, order, panel.colors = colors, gap = .5,\n",
    "       main = \"Correlations of Worldwide Governance Indicators\" )"
   ]
  }
 ],
 "metadata": {
  "kernelspec": {
   "display_name": "R",
   "language": "R",
   "name": "ir"
  },
  "language_info": {
   "codemirror_mode": "r",
   "file_extension": ".r",
   "mimetype": "text/x-r-source",
   "name": "R",
   "pygments_lexer": "r",
   "version": "3.6.1"
  }
 },
 "nbformat": 4,
 "nbformat_minor": 5
}
