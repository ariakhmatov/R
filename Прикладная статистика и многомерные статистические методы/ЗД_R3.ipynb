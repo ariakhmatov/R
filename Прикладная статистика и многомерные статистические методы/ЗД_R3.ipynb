{
 "cells": [
  {
   "cell_type": "markdown",
   "id": "4746c2cb-2226-4bf3-b42f-592f1860eb6a",
   "metadata": {},
   "source": [
    "# Задание 3. Статистические критерии"
   ]
  },
  {
   "cell_type": "code",
   "execution_count": 7,
   "id": "8eac528a-4410-4a47-9184-a08ce7fc7bf1",
   "metadata": {},
   "outputs": [
    {
     "data": {
      "text/html": [
       "<table>\n",
       "<thead><tr><th scope=col>Girth</th><th scope=col>Height</th><th scope=col>Volume</th></tr></thead>\n",
       "<tbody>\n",
       "\t<tr><td> 8.3</td><td>70  </td><td>10.3</td></tr>\n",
       "\t<tr><td> 8.6</td><td>65  </td><td>10.3</td></tr>\n",
       "\t<tr><td> 8.8</td><td>63  </td><td>10.2</td></tr>\n",
       "\t<tr><td>10.5</td><td>72  </td><td>16.4</td></tr>\n",
       "\t<tr><td>10.7</td><td>81  </td><td>18.8</td></tr>\n",
       "\t<tr><td>10.8</td><td>83  </td><td>19.7</td></tr>\n",
       "\t<tr><td>11.0</td><td>66  </td><td>15.6</td></tr>\n",
       "\t<tr><td>11.0</td><td>75  </td><td>18.2</td></tr>\n",
       "\t<tr><td>11.1</td><td>80  </td><td>22.6</td></tr>\n",
       "\t<tr><td>11.2</td><td>75  </td><td>19.9</td></tr>\n",
       "\t<tr><td>11.3</td><td>79  </td><td>24.2</td></tr>\n",
       "\t<tr><td>11.4</td><td>76  </td><td>21.0</td></tr>\n",
       "\t<tr><td>11.4</td><td>76  </td><td>21.4</td></tr>\n",
       "\t<tr><td>11.7</td><td>69  </td><td>21.3</td></tr>\n",
       "\t<tr><td>12.0</td><td>75  </td><td>19.1</td></tr>\n",
       "\t<tr><td>12.9</td><td>74  </td><td>22.2</td></tr>\n",
       "\t<tr><td>12.9</td><td>85  </td><td>33.8</td></tr>\n",
       "\t<tr><td>13.3</td><td>86  </td><td>27.4</td></tr>\n",
       "\t<tr><td>13.7</td><td>71  </td><td>25.7</td></tr>\n",
       "\t<tr><td>13.8</td><td>64  </td><td>24.9</td></tr>\n",
       "\t<tr><td>14.0</td><td>78  </td><td>34.5</td></tr>\n",
       "\t<tr><td>14.2</td><td>80  </td><td>31.7</td></tr>\n",
       "\t<tr><td>14.5</td><td>74  </td><td>36.3</td></tr>\n",
       "\t<tr><td>16.0</td><td>72  </td><td>38.3</td></tr>\n",
       "\t<tr><td>16.3</td><td>77  </td><td>42.6</td></tr>\n",
       "\t<tr><td>17.3</td><td>81  </td><td>55.4</td></tr>\n",
       "\t<tr><td>17.5</td><td>82  </td><td>55.7</td></tr>\n",
       "\t<tr><td>17.9</td><td>80  </td><td>58.3</td></tr>\n",
       "\t<tr><td>18.0</td><td>80  </td><td>51.5</td></tr>\n",
       "\t<tr><td>18.0</td><td>80  </td><td>51.0</td></tr>\n",
       "\t<tr><td>20.6</td><td>87  </td><td>77.0</td></tr>\n",
       "</tbody>\n",
       "</table>\n"
      ],
      "text/latex": [
       "\\begin{tabular}{r|lll}\n",
       " Girth & Height & Volume\\\\\n",
       "\\hline\n",
       "\t  8.3 & 70   & 10.3\\\\\n",
       "\t  8.6 & 65   & 10.3\\\\\n",
       "\t  8.8 & 63   & 10.2\\\\\n",
       "\t 10.5 & 72   & 16.4\\\\\n",
       "\t 10.7 & 81   & 18.8\\\\\n",
       "\t 10.8 & 83   & 19.7\\\\\n",
       "\t 11.0 & 66   & 15.6\\\\\n",
       "\t 11.0 & 75   & 18.2\\\\\n",
       "\t 11.1 & 80   & 22.6\\\\\n",
       "\t 11.2 & 75   & 19.9\\\\\n",
       "\t 11.3 & 79   & 24.2\\\\\n",
       "\t 11.4 & 76   & 21.0\\\\\n",
       "\t 11.4 & 76   & 21.4\\\\\n",
       "\t 11.7 & 69   & 21.3\\\\\n",
       "\t 12.0 & 75   & 19.1\\\\\n",
       "\t 12.9 & 74   & 22.2\\\\\n",
       "\t 12.9 & 85   & 33.8\\\\\n",
       "\t 13.3 & 86   & 27.4\\\\\n",
       "\t 13.7 & 71   & 25.7\\\\\n",
       "\t 13.8 & 64   & 24.9\\\\\n",
       "\t 14.0 & 78   & 34.5\\\\\n",
       "\t 14.2 & 80   & 31.7\\\\\n",
       "\t 14.5 & 74   & 36.3\\\\\n",
       "\t 16.0 & 72   & 38.3\\\\\n",
       "\t 16.3 & 77   & 42.6\\\\\n",
       "\t 17.3 & 81   & 55.4\\\\\n",
       "\t 17.5 & 82   & 55.7\\\\\n",
       "\t 17.9 & 80   & 58.3\\\\\n",
       "\t 18.0 & 80   & 51.5\\\\\n",
       "\t 18.0 & 80   & 51.0\\\\\n",
       "\t 20.6 & 87   & 77.0\\\\\n",
       "\\end{tabular}\n"
      ],
      "text/markdown": [
       "\n",
       "| Girth | Height | Volume |\n",
       "|---|---|---|\n",
       "|  8.3 | 70   | 10.3 |\n",
       "|  8.6 | 65   | 10.3 |\n",
       "|  8.8 | 63   | 10.2 |\n",
       "| 10.5 | 72   | 16.4 |\n",
       "| 10.7 | 81   | 18.8 |\n",
       "| 10.8 | 83   | 19.7 |\n",
       "| 11.0 | 66   | 15.6 |\n",
       "| 11.0 | 75   | 18.2 |\n",
       "| 11.1 | 80   | 22.6 |\n",
       "| 11.2 | 75   | 19.9 |\n",
       "| 11.3 | 79   | 24.2 |\n",
       "| 11.4 | 76   | 21.0 |\n",
       "| 11.4 | 76   | 21.4 |\n",
       "| 11.7 | 69   | 21.3 |\n",
       "| 12.0 | 75   | 19.1 |\n",
       "| 12.9 | 74   | 22.2 |\n",
       "| 12.9 | 85   | 33.8 |\n",
       "| 13.3 | 86   | 27.4 |\n",
       "| 13.7 | 71   | 25.7 |\n",
       "| 13.8 | 64   | 24.9 |\n",
       "| 14.0 | 78   | 34.5 |\n",
       "| 14.2 | 80   | 31.7 |\n",
       "| 14.5 | 74   | 36.3 |\n",
       "| 16.0 | 72   | 38.3 |\n",
       "| 16.3 | 77   | 42.6 |\n",
       "| 17.3 | 81   | 55.4 |\n",
       "| 17.5 | 82   | 55.7 |\n",
       "| 17.9 | 80   | 58.3 |\n",
       "| 18.0 | 80   | 51.5 |\n",
       "| 18.0 | 80   | 51.0 |\n",
       "| 20.6 | 87   | 77.0 |\n",
       "\n"
      ],
      "text/plain": [
       "   Girth Height Volume\n",
       "1   8.3  70     10.3  \n",
       "2   8.6  65     10.3  \n",
       "3   8.8  63     10.2  \n",
       "4  10.5  72     16.4  \n",
       "5  10.7  81     18.8  \n",
       "6  10.8  83     19.7  \n",
       "7  11.0  66     15.6  \n",
       "8  11.0  75     18.2  \n",
       "9  11.1  80     22.6  \n",
       "10 11.2  75     19.9  \n",
       "11 11.3  79     24.2  \n",
       "12 11.4  76     21.0  \n",
       "13 11.4  76     21.4  \n",
       "14 11.7  69     21.3  \n",
       "15 12.0  75     19.1  \n",
       "16 12.9  74     22.2  \n",
       "17 12.9  85     33.8  \n",
       "18 13.3  86     27.4  \n",
       "19 13.7  71     25.7  \n",
       "20 13.8  64     24.9  \n",
       "21 14.0  78     34.5  \n",
       "22 14.2  80     31.7  \n",
       "23 14.5  74     36.3  \n",
       "24 16.0  72     38.3  \n",
       "25 16.3  77     42.6  \n",
       "26 17.3  81     55.4  \n",
       "27 17.5  82     55.7  \n",
       "28 17.9  80     58.3  \n",
       "29 18.0  80     51.5  \n",
       "30 18.0  80     51.0  \n",
       "31 20.6  87     77.0  "
      ]
     },
     "metadata": {},
     "output_type": "display_data"
    }
   ],
   "source": [
    "# 1 открыть таблицу \n",
    "trees"
   ]
  },
  {
   "cell_type": "code",
   "execution_count": 2,
   "id": "82bb006e-25db-47d8-a3a9-b08967f29d80",
   "metadata": {},
   "outputs": [
    {
     "data": {
      "text/html": [
       "<ol class=list-inline>\n",
       "\t<li>'Girth'</li>\n",
       "\t<li>'Height'</li>\n",
       "\t<li>'Volume'</li>\n",
       "</ol>\n"
      ],
      "text/latex": [
       "\\begin{enumerate*}\n",
       "\\item 'Girth'\n",
       "\\item 'Height'\n",
       "\\item 'Volume'\n",
       "\\end{enumerate*}\n"
      ],
      "text/markdown": [
       "1. 'Girth'\n",
       "2. 'Height'\n",
       "3. 'Volume'\n",
       "\n",
       "\n"
      ],
      "text/plain": [
       "[1] \"Girth\"  \"Height\" \"Volume\""
      ]
     },
     "metadata": {},
     "output_type": "display_data"
    }
   ],
   "source": [
    "# 2\n",
    "names(trees)"
   ]
  },
  {
   "cell_type": "code",
   "execution_count": 5,
   "id": "2d2e93bf-de5a-41b7-85fa-b952827f555b",
   "metadata": {
    "collapsed": true,
    "jupyter": {
     "outputs_hidden": true
    },
    "tags": []
   },
   "outputs": [
    {
     "data": {
      "text/plain": [
       "\n",
       "\tShapiro-Wilk normality test\n",
       "\n",
       "data:  girth\n",
       "W = 0.94117, p-value = 0.08893\n"
      ]
     },
     "metadata": {},
     "output_type": "display_data"
    },
    {
     "data": {
      "text/plain": [
       "\n",
       "\tShapiro-Wilk normality test\n",
       "\n",
       "data:  height\n",
       "W = 0.96545, p-value = 0.4034\n"
      ]
     },
     "metadata": {},
     "output_type": "display_data"
    },
    {
     "data": {
      "text/plain": [
       "\n",
       "\tShapiro-Wilk normality test\n",
       "\n",
       "data:  volume\n",
       "W = 0.88757, p-value = 0.003579\n"
      ]
     },
     "metadata": {},
     "output_type": "display_data"
    }
   ],
   "source": [
    "#3 тест Шапиро-Уилка\n",
    "girth=trees$Girth[1:31]\n",
    "height=trees$Height[1:31]\n",
    "volume=trees$Volume[1:31]\n",
    "\n",
    "shapiro.test(girth)\n",
    "shapiro.test(height)\n",
    "shapiro.test(volume)\n",
    "\n",
    "#Ввывод теста Шапиро-Уилка для диаметра, высоты, объема деревьев \n",
    "#data:  girth\n",
    "#W = 0.94117, p-value = 0.08893. при уровне значимости 0,05 гипотеза принимается т.к >0,05\n",
    "\n",
    "#data:  height\n",
    "#W = 0.96545, p-value = 0.4034 гипотеза о нормальности распр. принимается т.к >0,05\n",
    "\n",
    "#data:  volume\n",
    "#W = 0.88757, p-value = 0.003579 гипотеза отвергается т.к <0,05"
   ]
  },
  {
   "cell_type": "code",
   "execution_count": 6,
   "id": "b3765790-1473-44bd-bb85-a4bafef6785b",
   "metadata": {},
   "outputs": [
    {
     "data": {
      "text/html": [
       "<table>\n",
       "<thead><tr><th scope=col>x</th><th scope=col>y</th><th scope=col>z</th></tr></thead>\n",
       "<tbody>\n",
       "\t<tr><td>0.000031</td><td>0.000183</td><td>0.000824</td></tr>\n",
       "\t<tr><td>0.044495</td><td>0.155732</td><td>0.533939</td></tr>\n",
       "\t<tr><td>0.822440</td><td>0.873416</td><td>0.838542</td></tr>\n",
       "\t<tr><td>0.322291</td><td>0.648545</td><td>0.990648</td></tr>\n",
       "\t<tr><td>0.393595</td><td>0.826873</td><td>0.418881</td></tr>\n",
       "\t<tr><td>0.309097</td><td>0.926590</td><td>0.777664</td></tr>\n",
       "\t<tr><td>0.826368</td><td>0.308540</td><td>0.413932</td></tr>\n",
       "\t<tr><td>0.729424</td><td>0.741526</td><td>0.884338</td></tr>\n",
       "\t<tr><td>0.317649</td><td>0.393468</td><td>0.501968</td></tr>\n",
       "\t<tr><td>0.599793</td><td>0.846041</td><td>0.678107</td></tr>\n",
       "\t<tr><td>0.647603</td><td>0.281525</td><td>0.860718</td></tr>\n",
       "\t<tr><td>0.547048</td><td>0.948790</td><td>0.769314</td></tr>\n",
       "\t<tr><td>0.529873</td><td>0.348011</td><td>0.319211</td></tr>\n",
       "\t<tr><td>0.908040</td><td>0.013456</td><td>0.908380</td></tr>\n",
       "\t<tr><td>0.835195</td><td>0.814513</td><td>0.370327</td></tr>\n",
       "\t<tr><td>0.068696</td><td>0.275943</td><td>0.037394</td></tr>\n",
       "\t<tr><td>0.984329</td><td>0.927687</td><td>0.707165</td></tr>\n",
       "\t<tr><td>0.945783</td><td>0.689675</td><td>0.626002</td></tr>\n",
       "\t<tr><td>0.017137</td><td>0.166494</td><td>0.844727</td></tr>\n",
       "\t<tr><td>0.772506</td><td>0.282393</td><td>0.741801</td></tr>\n",
       "\t<tr><td>0.493080</td><td>0.943686</td><td>0.224398</td></tr>\n",
       "\t<tr><td>0.919386</td><td>0.618783</td><td>0.438229</td></tr>\n",
       "\t<tr><td>0.964342</td><td>0.025198</td><td>0.472110</td></tr>\n",
       "\t<tr><td>0.864672</td><td>0.711721</td><td>0.488282</td></tr>\n",
       "\t<tr><td>0.786249</td><td>0.961377</td><td>0.692023</td></tr>\n",
       "\t<tr><td>0.123862</td><td>0.810826</td><td>0.750198</td></tr>\n",
       "\t<tr><td>0.990535</td><td>0.706806</td><td>0.326013</td></tr>\n",
       "\t<tr><td>0.455714</td><td>0.020492</td><td>0.021528</td></tr>\n",
       "\t<tr><td>0.345516</td><td>0.800801</td><td>0.695158</td></tr>\n",
       "\t<tr><td>0.482433</td><td>0.160464</td><td>0.620887</td></tr>\n",
       "\t<tr><td>...</td><td>...</td><td>...</td></tr>\n",
       "\t<tr><td>0.640176</td><td>0.508267</td><td>0.288014</td></tr>\n",
       "\t<tr><td>0.596723</td><td>0.610511</td><td>0.292563</td></tr>\n",
       "\t<tr><td>0.242544</td><td>0.070984</td><td>0.243013</td></tr>\n",
       "\t<tr><td>0.996192</td><td>0.423421</td><td>0.574797</td></tr>\n",
       "\t<tr><td>0.186854</td><td>0.227890</td><td>0.685654</td></tr>\n",
       "\t<tr><td>0.673327</td><td>0.180656</td><td>0.023994</td></tr>\n",
       "\t<tr><td>0.691865</td><td>0.119631</td><td>0.491003</td></tr>\n",
       "\t<tr><td>0.958049</td><td>0.575105</td><td>0.828191</td></tr>\n",
       "\t<tr><td>0.694005</td><td>0.414871</td><td>0.243179</td></tr>\n",
       "\t<tr><td>0.449659</td><td>0.232798</td><td>0.349853</td></tr>\n",
       "\t<tr><td>0.214184</td><td>0.410710</td><td>0.536605</td></tr>\n",
       "\t<tr><td>0.150706</td><td>0.114502</td><td>0.330657</td></tr>\n",
       "\t<tr><td>0.887069</td><td>0.620527</td><td>0.739542</td></tr>\n",
       "\t<tr><td>0.082414</td><td>0.362020</td><td>0.430390</td></tr>\n",
       "\t<tr><td>0.511244</td><td>0.424449</td><td>0.945496</td></tr>\n",
       "\t<tr><td>0.972510</td><td>0.361654</td><td>0.417328</td></tr>\n",
       "\t<tr><td>0.189574</td><td>0.490444</td><td>0.236500</td></tr>\n",
       "\t<tr><td>0.364059</td><td>0.070724</td><td>0.147809</td></tr>\n",
       "\t<tr><td>0.777554</td><td>0.119375</td><td>0.718263</td></tr>\n",
       "\t<tr><td>0.564273</td><td>0.863991</td><td>0.105492</td></tr>\n",
       "\t<tr><td>0.443353</td><td>0.925122</td><td>0.560552</td></tr>\n",
       "\t<tr><td>0.735040</td><td>0.805249</td><td>0.216132</td></tr>\n",
       "\t<tr><td>0.666700</td><td>0.831245</td><td>0.987175</td></tr>\n",
       "\t<tr><td>0.622253</td><td>0.835295</td><td>0.411495</td></tr>\n",
       "\t<tr><td>0.464697</td><td>0.748429</td><td>0.308307</td></tr>\n",
       "\t<tr><td>0.428804</td><td>0.390935</td><td>0.486373</td></tr>\n",
       "\t<tr><td>0.531088</td><td>0.992282</td><td>0.173898</td></tr>\n",
       "\t<tr><td>0.656463</td><td>0.930601</td><td>0.675440</td></tr>\n",
       "\t<tr><td>0.811441</td><td>0.008876</td><td>0.750293</td></tr>\n",
       "\t<tr><td>0.874628</td><td>0.240614</td><td>0.572030</td></tr>\n",
       "</tbody>\n",
       "</table>\n"
      ],
      "text/latex": [
       "\\begin{tabular}{r|lll}\n",
       " x & y & z\\\\\n",
       "\\hline\n",
       "\t 0.000031 & 0.000183 & 0.000824\\\\\n",
       "\t 0.044495 & 0.155732 & 0.533939\\\\\n",
       "\t 0.822440 & 0.873416 & 0.838542\\\\\n",
       "\t 0.322291 & 0.648545 & 0.990648\\\\\n",
       "\t 0.393595 & 0.826873 & 0.418881\\\\\n",
       "\t 0.309097 & 0.926590 & 0.777664\\\\\n",
       "\t 0.826368 & 0.308540 & 0.413932\\\\\n",
       "\t 0.729424 & 0.741526 & 0.884338\\\\\n",
       "\t 0.317649 & 0.393468 & 0.501968\\\\\n",
       "\t 0.599793 & 0.846041 & 0.678107\\\\\n",
       "\t 0.647603 & 0.281525 & 0.860718\\\\\n",
       "\t 0.547048 & 0.948790 & 0.769314\\\\\n",
       "\t 0.529873 & 0.348011 & 0.319211\\\\\n",
       "\t 0.908040 & 0.013456 & 0.908380\\\\\n",
       "\t 0.835195 & 0.814513 & 0.370327\\\\\n",
       "\t 0.068696 & 0.275943 & 0.037394\\\\\n",
       "\t 0.984329 & 0.927687 & 0.707165\\\\\n",
       "\t 0.945783 & 0.689675 & 0.626002\\\\\n",
       "\t 0.017137 & 0.166494 & 0.844727\\\\\n",
       "\t 0.772506 & 0.282393 & 0.741801\\\\\n",
       "\t 0.493080 & 0.943686 & 0.224398\\\\\n",
       "\t 0.919386 & 0.618783 & 0.438229\\\\\n",
       "\t 0.964342 & 0.025198 & 0.472110\\\\\n",
       "\t 0.864672 & 0.711721 & 0.488282\\\\\n",
       "\t 0.786249 & 0.961377 & 0.692023\\\\\n",
       "\t 0.123862 & 0.810826 & 0.750198\\\\\n",
       "\t 0.990535 & 0.706806 & 0.326013\\\\\n",
       "\t 0.455714 & 0.020492 & 0.021528\\\\\n",
       "\t 0.345516 & 0.800801 & 0.695158\\\\\n",
       "\t 0.482433 & 0.160464 & 0.620887\\\\\n",
       "\t ... & ... & ...\\\\\n",
       "\t 0.640176 & 0.508267 & 0.288014\\\\\n",
       "\t 0.596723 & 0.610511 & 0.292563\\\\\n",
       "\t 0.242544 & 0.070984 & 0.243013\\\\\n",
       "\t 0.996192 & 0.423421 & 0.574797\\\\\n",
       "\t 0.186854 & 0.227890 & 0.685654\\\\\n",
       "\t 0.673327 & 0.180656 & 0.023994\\\\\n",
       "\t 0.691865 & 0.119631 & 0.491003\\\\\n",
       "\t 0.958049 & 0.575105 & 0.828191\\\\\n",
       "\t 0.694005 & 0.414871 & 0.243179\\\\\n",
       "\t 0.449659 & 0.232798 & 0.349853\\\\\n",
       "\t 0.214184 & 0.410710 & 0.536605\\\\\n",
       "\t 0.150706 & 0.114502 & 0.330657\\\\\n",
       "\t 0.887069 & 0.620527 & 0.739542\\\\\n",
       "\t 0.082414 & 0.362020 & 0.430390\\\\\n",
       "\t 0.511244 & 0.424449 & 0.945496\\\\\n",
       "\t 0.972510 & 0.361654 & 0.417328\\\\\n",
       "\t 0.189574 & 0.490444 & 0.236500\\\\\n",
       "\t 0.364059 & 0.070724 & 0.147809\\\\\n",
       "\t 0.777554 & 0.119375 & 0.718263\\\\\n",
       "\t 0.564273 & 0.863991 & 0.105492\\\\\n",
       "\t 0.443353 & 0.925122 & 0.560552\\\\\n",
       "\t 0.735040 & 0.805249 & 0.216132\\\\\n",
       "\t 0.666700 & 0.831245 & 0.987175\\\\\n",
       "\t 0.622253 & 0.835295 & 0.411495\\\\\n",
       "\t 0.464697 & 0.748429 & 0.308307\\\\\n",
       "\t 0.428804 & 0.390935 & 0.486373\\\\\n",
       "\t 0.531088 & 0.992282 & 0.173898\\\\\n",
       "\t 0.656463 & 0.930601 & 0.675440\\\\\n",
       "\t 0.811441 & 0.008876 & 0.750293\\\\\n",
       "\t 0.874628 & 0.240614 & 0.572030\\\\\n",
       "\\end{tabular}\n"
      ],
      "text/markdown": [
       "\n",
       "| x | y | z |\n",
       "|---|---|---|\n",
       "| 0.000031 | 0.000183 | 0.000824 |\n",
       "| 0.044495 | 0.155732 | 0.533939 |\n",
       "| 0.822440 | 0.873416 | 0.838542 |\n",
       "| 0.322291 | 0.648545 | 0.990648 |\n",
       "| 0.393595 | 0.826873 | 0.418881 |\n",
       "| 0.309097 | 0.926590 | 0.777664 |\n",
       "| 0.826368 | 0.308540 | 0.413932 |\n",
       "| 0.729424 | 0.741526 | 0.884338 |\n",
       "| 0.317649 | 0.393468 | 0.501968 |\n",
       "| 0.599793 | 0.846041 | 0.678107 |\n",
       "| 0.647603 | 0.281525 | 0.860718 |\n",
       "| 0.547048 | 0.948790 | 0.769314 |\n",
       "| 0.529873 | 0.348011 | 0.319211 |\n",
       "| 0.908040 | 0.013456 | 0.908380 |\n",
       "| 0.835195 | 0.814513 | 0.370327 |\n",
       "| 0.068696 | 0.275943 | 0.037394 |\n",
       "| 0.984329 | 0.927687 | 0.707165 |\n",
       "| 0.945783 | 0.689675 | 0.626002 |\n",
       "| 0.017137 | 0.166494 | 0.844727 |\n",
       "| 0.772506 | 0.282393 | 0.741801 |\n",
       "| 0.493080 | 0.943686 | 0.224398 |\n",
       "| 0.919386 | 0.618783 | 0.438229 |\n",
       "| 0.964342 | 0.025198 | 0.472110 |\n",
       "| 0.864672 | 0.711721 | 0.488282 |\n",
       "| 0.786249 | 0.961377 | 0.692023 |\n",
       "| 0.123862 | 0.810826 | 0.750198 |\n",
       "| 0.990535 | 0.706806 | 0.326013 |\n",
       "| 0.455714 | 0.020492 | 0.021528 |\n",
       "| 0.345516 | 0.800801 | 0.695158 |\n",
       "| 0.482433 | 0.160464 | 0.620887 |\n",
       "| ... | ... | ... |\n",
       "| 0.640176 | 0.508267 | 0.288014 |\n",
       "| 0.596723 | 0.610511 | 0.292563 |\n",
       "| 0.242544 | 0.070984 | 0.243013 |\n",
       "| 0.996192 | 0.423421 | 0.574797 |\n",
       "| 0.186854 | 0.227890 | 0.685654 |\n",
       "| 0.673327 | 0.180656 | 0.023994 |\n",
       "| 0.691865 | 0.119631 | 0.491003 |\n",
       "| 0.958049 | 0.575105 | 0.828191 |\n",
       "| 0.694005 | 0.414871 | 0.243179 |\n",
       "| 0.449659 | 0.232798 | 0.349853 |\n",
       "| 0.214184 | 0.410710 | 0.536605 |\n",
       "| 0.150706 | 0.114502 | 0.330657 |\n",
       "| 0.887069 | 0.620527 | 0.739542 |\n",
       "| 0.082414 | 0.362020 | 0.430390 |\n",
       "| 0.511244 | 0.424449 | 0.945496 |\n",
       "| 0.972510 | 0.361654 | 0.417328 |\n",
       "| 0.189574 | 0.490444 | 0.236500 |\n",
       "| 0.364059 | 0.070724 | 0.147809 |\n",
       "| 0.777554 | 0.119375 | 0.718263 |\n",
       "| 0.564273 | 0.863991 | 0.105492 |\n",
       "| 0.443353 | 0.925122 | 0.560552 |\n",
       "| 0.735040 | 0.805249 | 0.216132 |\n",
       "| 0.666700 | 0.831245 | 0.987175 |\n",
       "| 0.622253 | 0.835295 | 0.411495 |\n",
       "| 0.464697 | 0.748429 | 0.308307 |\n",
       "| 0.428804 | 0.390935 | 0.486373 |\n",
       "| 0.531088 | 0.992282 | 0.173898 |\n",
       "| 0.656463 | 0.930601 | 0.675440 |\n",
       "| 0.811441 | 0.008876 | 0.750293 |\n",
       "| 0.874628 | 0.240614 | 0.572030 |\n",
       "\n"
      ],
      "text/plain": [
       "    x        y        z       \n",
       "1   0.000031 0.000183 0.000824\n",
       "2   0.044495 0.155732 0.533939\n",
       "3   0.822440 0.873416 0.838542\n",
       "4   0.322291 0.648545 0.990648\n",
       "5   0.393595 0.826873 0.418881\n",
       "6   0.309097 0.926590 0.777664\n",
       "7   0.826368 0.308540 0.413932\n",
       "8   0.729424 0.741526 0.884338\n",
       "9   0.317649 0.393468 0.501968\n",
       "10  0.599793 0.846041 0.678107\n",
       "11  0.647603 0.281525 0.860718\n",
       "12  0.547048 0.948790 0.769314\n",
       "13  0.529873 0.348011 0.319211\n",
       "14  0.908040 0.013456 0.908380\n",
       "15  0.835195 0.814513 0.370327\n",
       "16  0.068696 0.275943 0.037394\n",
       "17  0.984329 0.927687 0.707165\n",
       "18  0.945783 0.689675 0.626002\n",
       "19  0.017137 0.166494 0.844727\n",
       "20  0.772506 0.282393 0.741801\n",
       "21  0.493080 0.943686 0.224398\n",
       "22  0.919386 0.618783 0.438229\n",
       "23  0.964342 0.025198 0.472110\n",
       "24  0.864672 0.711721 0.488282\n",
       "25  0.786249 0.961377 0.692023\n",
       "26  0.123862 0.810826 0.750198\n",
       "27  0.990535 0.706806 0.326013\n",
       "28  0.455714 0.020492 0.021528\n",
       "29  0.345516 0.800801 0.695158\n",
       "30  0.482433 0.160464 0.620887\n",
       "... ...      ...      ...     \n",
       "371 0.640176 0.508267 0.288014\n",
       "372 0.596723 0.610511 0.292563\n",
       "373 0.242544 0.070984 0.243013\n",
       "374 0.996192 0.423421 0.574797\n",
       "375 0.186854 0.227890 0.685654\n",
       "376 0.673327 0.180656 0.023994\n",
       "377 0.691865 0.119631 0.491003\n",
       "378 0.958049 0.575105 0.828191\n",
       "379 0.694005 0.414871 0.243179\n",
       "380 0.449659 0.232798 0.349853\n",
       "381 0.214184 0.410710 0.536605\n",
       "382 0.150706 0.114502 0.330657\n",
       "383 0.887069 0.620527 0.739542\n",
       "384 0.082414 0.362020 0.430390\n",
       "385 0.511244 0.424449 0.945496\n",
       "386 0.972510 0.361654 0.417328\n",
       "387 0.189574 0.490444 0.236500\n",
       "388 0.364059 0.070724 0.147809\n",
       "389 0.777554 0.119375 0.718263\n",
       "390 0.564273 0.863991 0.105492\n",
       "391 0.443353 0.925122 0.560552\n",
       "392 0.735040 0.805249 0.216132\n",
       "393 0.666700 0.831245 0.987175\n",
       "394 0.622253 0.835295 0.411495\n",
       "395 0.464697 0.748429 0.308307\n",
       "396 0.428804 0.390935 0.486373\n",
       "397 0.531088 0.992282 0.173898\n",
       "398 0.656463 0.930601 0.675440\n",
       "399 0.811441 0.008876 0.750293\n",
       "400 0.874628 0.240614 0.572030"
      ]
     },
     "metadata": {},
     "output_type": "display_data"
    }
   ],
   "source": [
    "#4 Открыть таблицу \n",
    "randu"
   ]
  },
  {
   "cell_type": "code",
   "execution_count": 8,
   "id": "04e0c5d5-c266-4af7-8e53-c5abd7663fec",
   "metadata": {
    "collapsed": true,
    "jupyter": {
     "outputs_hidden": true
    },
    "tags": []
   },
   "outputs": [
    {
     "name": "stderr",
     "output_type": "stream",
     "text": [
      "Warning message in ks.test(x, y):\n",
      "\"p-value will be approximate in the presence of ties\""
     ]
    },
    {
     "data": {
      "text/plain": [
       "\n",
       "\tTwo-sample Kolmogorov-Smirnov test\n",
       "\n",
       "data:  x and y\n",
       "D = 0.085, p-value = 0.1111\n",
       "alternative hypothesis: two-sided\n"
      ]
     },
     "metadata": {},
     "output_type": "display_data"
    },
    {
     "data": {
      "text/plain": [
       "\n",
       "\tTwo-sample Kolmogorov-Smirnov test\n",
       "\n",
       "data:  x and z\n",
       "D = 0.0875, p-value = 0.09353\n",
       "alternative hypothesis: two-sided\n"
      ]
     },
     "metadata": {},
     "output_type": "display_data"
    },
    {
     "data": {
      "text/plain": [
       "\n",
       "\tTwo-sample Kolmogorov-Smirnov test\n",
       "\n",
       "data:  y and z\n",
       "D = 0.0475, p-value = 0.7576\n",
       "alternative hypothesis: two-sided\n"
      ]
     },
     "metadata": {},
     "output_type": "display_data"
    }
   ],
   "source": [
    "#5 Тест Колмогорова-Смирнова\n",
    "x = randu$x[1:400]\n",
    "y = randu$y[1:400]\n",
    "z = randu$z[1:400]\n",
    "\n",
    "ks.test(x,y)\n",
    "ks.test(x,z)\n",
    "ks.test(y,z)\n",
    "\n",
    "#Ввывод теста Колмогорова-Смирнова на принадлежность одному и тому же непр. распределению\n",
    "\n",
    "#data:  x and y\n",
    "#D = 0.085, p-value = 0.1111. => т.к >0,05 нулевую гипотезу о принпдлеж. выборок x и y принимаем       \n",
    "\n",
    "#data:  x and z\n",
    "#D = 0.0875, p-value = 0.09353. => т.к >0,05 нулевую гипотезу о принпдлеж. выборок x и z принимаем\n",
    "\n",
    "#data:  y and z\n",
    "#D = 0.0475, p-value = 0.7576. => т.к >0,05 нулевую гипотезу о принпдлеж. выборок y и z принимаем\n",
    "\n",
    "#Отсюда можно следать ввывод что выборка x,y,z принадлежат одному и тому же непр. распределению"
   ]
  },
  {
   "cell_type": "code",
   "execution_count": 9,
   "id": "dbb28fdc-1e15-4835-a964-1cdbf240fced",
   "metadata": {
    "collapsed": true,
    "jupyter": {
     "outputs_hidden": true
    },
    "tags": []
   },
   "outputs": [
    {
     "name": "stderr",
     "output_type": "stream",
     "text": [
      "Warning message in chisq.test(x, y):\n",
      "\"Chi-squared approximation may be incorrect\""
     ]
    },
    {
     "data": {
      "text/plain": [
       "\n",
       "\tPearson's Chi-squared test\n",
       "\n",
       "data:  x and y\n",
       "X-squared = 159600, df = 159201, p-value = 0.2396\n"
      ]
     },
     "metadata": {},
     "output_type": "display_data"
    },
    {
     "name": "stderr",
     "output_type": "stream",
     "text": [
      "Warning message in chisq.test(x, z):\n",
      "\"Chi-squared approximation may be incorrect\""
     ]
    },
    {
     "data": {
      "text/plain": [
       "\n",
       "\tPearson's Chi-squared test\n",
       "\n",
       "data:  x and z\n",
       "X-squared = 159600, df = 159201, p-value = 0.2396\n"
      ]
     },
     "metadata": {},
     "output_type": "display_data"
    },
    {
     "name": "stderr",
     "output_type": "stream",
     "text": [
      "Warning message in chisq.test(y, z):\n",
      "\"Chi-squared approximation may be incorrect\""
     ]
    },
    {
     "data": {
      "text/plain": [
       "\n",
       "\tPearson's Chi-squared test\n",
       "\n",
       "data:  y and z\n",
       "X-squared = 159600, df = 159201, p-value = 0.2396\n"
      ]
     },
     "metadata": {},
     "output_type": "display_data"
    }
   ],
   "source": [
    "#6 Критерия согласия Пирсона\n",
    "chisq.test(x,y)\n",
    "chisq.test(x,z)\n",
    "chisq.test(y,z)\n",
    "\n",
    "#Ввывод критерия согласия Пирсона о независимоти x,y,z\n",
    "\n",
    "# data:  x and y\n",
    "# X-squared = 159600, df = 159201, p-value = 0.2396\n",
    "\n",
    "# data:  x and z\n",
    "# X-squared = 159600, df = 159201, p-value = 0.2396\n",
    "\n",
    "# data:  y and z\n",
    "# X-squared = 159600, df = 159201, p-value = 0.2396\n",
    "\n",
    "#Так как p-value = 0.2396 > 0,05 то гипотезу о независимомти случ. признаков принимаем"
   ]
  },
  {
   "cell_type": "code",
   "execution_count": 10,
   "id": "78f3671d-4b70-4c1b-958f-56ece7eef514",
   "metadata": {
    "collapsed": true,
    "jupyter": {
     "outputs_hidden": true
    },
    "tags": []
   },
   "outputs": [
    {
     "data": {
      "text/plain": [
       "\n",
       "\tWelch Two Sample t-test\n",
       "\n",
       "data:  x and y\n",
       "t = 1.9731, df = 797.28, p-value = 0.04883\n",
       "alternative hypothesis: true difference in means is not equal to 0\n",
       "95 percent confidence interval:\n",
       " 0.0002075138 0.0805449562\n",
       "sample estimates:\n",
       "mean of x mean of y \n",
       "0.5264293 0.4860531 \n"
      ]
     },
     "metadata": {},
     "output_type": "display_data"
    },
    {
     "data": {
      "text/plain": [
       "\n",
       "\tWelch Two Sample t-test\n",
       "\n",
       "data:  x and z\n",
       "t = 2.2802, df = 797.64, p-value = 0.02286\n",
       "alternative hypothesis: true difference in means is not equal to 0\n",
       "95 percent confidence interval:\n",
       " 0.006327298 0.084621967\n",
       "sample estimates:\n",
       "mean of x mean of y \n",
       "0.5264293 0.4809547 \n"
      ]
     },
     "metadata": {},
     "output_type": "display_data"
    },
    {
     "data": {
      "text/plain": [
       "\n",
       "\tWelch Two Sample t-test\n",
       "\n",
       "data:  y and z\n",
       "t = 0.25169, df = 795.91, p-value = 0.8013\n",
       "alternative hypothesis: true difference in means is not equal to 0\n",
       "95 percent confidence interval:\n",
       " -0.03466412  0.04486091\n",
       "sample estimates:\n",
       "mean of x mean of y \n",
       "0.4860531 0.4809547 \n"
      ]
     },
     "metadata": {},
     "output_type": "display_data"
    }
   ],
   "source": [
    "#7 t-тест Стьюдента\n",
    "t.test(x,y)\n",
    "t.test(x,z)\n",
    "t.test(y,z)\n",
    "\n",
    "#Проверка гипотезы о равенстве средних x,y,z\n",
    "\n",
    "# data:  x and y\n",
    "# t = 1.9731, df = 797.28, p-value = 0.04 т.к <0,05 то гипотезу отвергаем\n",
    "\n",
    "# data:  x and z\n",
    "# t = 2.2802, df = 797.64, p-value = 0.02286 т.к <0,05 то гипотезу отвергаем\n",
    "\n",
    "# data:  y and z\n",
    "# t = 0.25169, df = 795.91, p-value = 0.8013 т.к >0,05 то гипотезу примнимаем\n",
    "\n",
    "#Ввывод среднее занчения x, y, z не равны."
   ]
  },
  {
   "cell_type": "code",
   "execution_count": 11,
   "id": "caab69f2-045d-4a2b-a975-3305267ecfa6",
   "metadata": {},
   "outputs": [
    {
     "data": {
      "text/plain": [
       ", , Sex = Male\n",
       "\n",
       "       Eye\n",
       "Hair    Brown Blue Hazel Green\n",
       "  Black    32   11    10     3\n",
       "  Brown    53   50    25    15\n",
       "  Red      10   10     7     7\n",
       "  Blond     3   30     5     8\n",
       "\n",
       ", , Sex = Female\n",
       "\n",
       "       Eye\n",
       "Hair    Brown Blue Hazel Green\n",
       "  Black    36    9     5     2\n",
       "  Brown    66   34    29    14\n",
       "  Red      16    7     7     7\n",
       "  Blond     4   64     5     8\n"
      ]
     },
     "metadata": {},
     "output_type": "display_data"
    }
   ],
   "source": [
    "#8 Открыть таблицу\n",
    "HairEyeColor"
   ]
  },
  {
   "cell_type": "code",
   "execution_count": 12,
   "id": "0b596c7d-9059-4b6f-84b2-e9664b55928b",
   "metadata": {
    "collapsed": true,
    "jupyter": {
     "outputs_hidden": true
    },
    "tags": []
   },
   "outputs": [
    {
     "data": {
      "text/plain": [
       "\n",
       "\tPearson's Chi-squared test with simulated p-value (based on 2000\n",
       "\treplicates)\n",
       "\n",
       "data:  boy\n",
       "X-squared = 41.28, df = NA, p-value = 0.0004998\n"
      ]
     },
     "metadata": {},
     "output_type": "display_data"
    }
   ],
   "source": [
    "#9 Проверь гипотезу на муж\n",
    "boy = HairEyeColor[ , ,'Male']#таблица сопряженности признака муж\n",
    "\n",
    "chisq.test(boy, simulate.p.value = TRUE)\n",
    "\n",
    "#Ввыод Гипотезы: что цвет глаз не зависит от цвета волос\n",
    "#data:  boy\n",
    "#X-squared = 41.28, df = NA, p-value = 0.0004998 \n",
    "\n",
    "#При уровне значимости 0,05 гипотеза о независимости отвергается т.е цвет глаз зависем от цвета волос"
   ]
  },
  {
   "cell_type": "code",
   "execution_count": 13,
   "id": "de53ed96-db96-4e35-a894-a36ac4b0cab2",
   "metadata": {
    "collapsed": true,
    "jupyter": {
     "outputs_hidden": true
    },
    "tags": []
   },
   "outputs": [
    {
     "data": {
      "text/plain": [
       "\n",
       "\tPearson's Chi-squared test with simulated p-value (based on 2000\n",
       "\treplicates)\n",
       "\n",
       "data:  girl\n",
       "X-squared = 106.66, df = NA, p-value = 0.0004998\n"
      ]
     },
     "metadata": {},
     "output_type": "display_data"
    }
   ],
   "source": [
    "#10 Проверь гипотезу на жен\n",
    "girl=HairEyeColor[ , ,'Female']#таблица сопряженности признака жен\n",
    "\n",
    "chisq.test(girl, simulate.p.value = TRUE)\n",
    "\n",
    "#Ввывод для аналогичного 9 п. для жен.\n",
    "#data:  girl\n",
    "#X-squared = 106.66, df = NA, p-value = 0.0004998 \n",
    "#При уровне значимости 0,05 гипотеза отвергается т.е цвет глаз зависем от цвета волос"
   ]
  },
  {
   "cell_type": "code",
   "execution_count": 14,
   "id": "08bbbc75-1efb-4eed-b253-b70b2008e4bc",
   "metadata": {},
   "outputs": [
    {
     "data": {
      "image/png": "[encoded data removed]",
      "text/plain": [
       "Plot with title \"boy\""
      ]
     },
     "metadata": {},
     "output_type": "display_data"
    },
    {
     "data": {
      "image/png": "[encoded data removed]",
      "text/plain": [
       "Plot with title \"girl\""
      ]
     },
     "metadata": {},
     "output_type": "display_data"
    }
   ],
   "source": [
    "#11 Постройть созаичные диаграммы муж и жен\n",
    "mosaicplot(boy, col=c('royalblue', 'purple', 'sienna','mediumblue'))\n",
    "mosaicplot(girl, col=c('royalblue', 'purple', 'sienna','mediumblue'))"
   ]
  }
 ],
 "metadata": {
  "kernelspec": {
   "display_name": "R",
   "language": "R",
   "name": "ir"
  },
  "language_info": {
   "codemirror_mode": "r",
   "file_extension": ".r",
   "mimetype": "text/x-r-source",
   "name": "R",
   "pygments_lexer": "r",
   "version": "3.6.1"
  }
 },
 "nbformat": 4,
 "nbformat_minor": 5
}
