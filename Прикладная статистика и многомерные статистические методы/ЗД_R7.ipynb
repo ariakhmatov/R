{
 "cells": [
  {
   "cell_type": "markdown",
   "id": "0da16cd1-41b7-4ec6-8802-feb50251cecd",
   "metadata": {},
   "source": [
    "# Задание 7. Кластерный анализ "
   ]
  },
  {
   "cell_type": "code",
   "execution_count": 16,
   "id": "06582613-0259-4b6c-9e78-ddfb81d80056",
   "metadata": {},
   "outputs": [
    {
     "data": {
      "text/html": [
       "<ol class=list-inline>\n",
       "\t<li>'vid'</li>\n",
       "\t<li>'mause'</li>\n",
       "\t<li>'rat'</li>\n",
       "\t<li>'cavy'</li>\n",
       "\t<li>'rabbit'</li>\n",
       "\t<li>'cat'</li>\n",
       "\t<li>'dog'</li>\n",
       "\t<li>'sheep'</li>\n",
       "\t<li>'bull'</li>\n",
       "\t<li>'giraffe'</li>\n",
       "\t<li>'pig'</li>\n",
       "\t<li>'horse'</li>\n",
       "</ol>\n"
      ],
      "text/latex": [
       "\\begin{enumerate*}\n",
       "\\item 'vid'\n",
       "\\item 'mause'\n",
       "\\item 'rat'\n",
       "\\item 'cavy'\n",
       "\\item 'rabbit'\n",
       "\\item 'cat'\n",
       "\\item 'dog'\n",
       "\\item 'sheep'\n",
       "\\item 'bull'\n",
       "\\item 'giraffe'\n",
       "\\item 'pig'\n",
       "\\item 'horse'\n",
       "\\end{enumerate*}\n"
      ],
      "text/markdown": [
       "1. 'vid'\n",
       "2. 'mause'\n",
       "3. 'rat'\n",
       "4. 'cavy'\n",
       "5. 'rabbit'\n",
       "6. 'cat'\n",
       "7. 'dog'\n",
       "8. 'sheep'\n",
       "9. 'bull'\n",
       "10. 'giraffe'\n",
       "11. 'pig'\n",
       "12. 'horse'\n",
       "\n",
       "\n"
      ],
      "text/plain": [
       " [1] \"vid\"     \"mause\"   \"rat\"     \"cavy\"    \"rabbit\"  \"cat\"     \"dog\"    \n",
       " [8] \"sheep\"   \"bull\"    \"giraffe\" \"pig\"     \"horse\"  "
      ]
     },
     "metadata": {},
     "output_type": "display_data"
    },
    {
     "name": "stderr",
     "output_type": "stream",
     "text": [
      "Warning message in dist(kl):\n",
      "\"в результате преобразования созданы NA\""
     ]
    },
    {
     "ename": "ERROR",
     "evalue": "Error in hclust(dist(kl)): NA/NaN/Inf при вызове внешней функции (аргумент 10)\n",
     "output_type": "error",
     "traceback": [
      "Error in hclust(dist(kl)): NA/NaN/Inf при вызове внешней функции (аргумент 10)\nTraceback:\n",
      "1. hclust(dist(kl))"
     ]
    }
   ],
   "source": [
    "\n",
    "KLast = read.csv(file = 'data/KLast.csv', sep = ';') \n",
    "\n",
    "names(KLast)\n",
    "\n",
    "kl = KLast[-1]\n",
    "\n",
    "rownames(kl) =  KLast$vid\n",
    "\n",
    "kl1 = t(kl)\n",
    "\n",
    "kl_hc = hclust(dist(kl1))\n",
    "#kl_hc1 = hclust(dist(kl))\n",
    "\n",
    "plot(kl_hc)\n",
    "#plot(kl_hc1)"
   ]
  },
  {
   "cell_type": "code",
   "execution_count": 22,
   "id": "463260c3-e3d5-43df-ba39-e7aedd186da1",
   "metadata": {},
   "outputs": [
    {
     "name": "stderr",
     "output_type": "stream",
     "text": [
      "Warning message in storage.mode(x) <- \"double\":\n",
      "\"в результате преобразования созданы NA\""
     ]
    },
    {
     "ename": "ERROR",
     "evalue": "Error in do_one(nmeth): NA/NaN/Inf при вызове внешней функции (аргумент 1)\n",
     "output_type": "error",
     "traceback": [
      "Error in do_one(nmeth): NA/NaN/Inf при вызове внешней функции (аргумент 1)\nTraceback:\n",
      "1. kmeans(kl1, 4)",
      "2. do_one(nmeth)"
     ]
    }
   ],
   "source": [
    "# разабьем полученные результаты на 4 класстера \n",
    "k4 = kmeans(kl1, 4)\n",
    "k4\n",
    "\n",
    "# K-means clustering with 4 clusters of sizes 7, 1, 1, 2\n",
    "\n",
    "# Clustering vector:\n",
    "#   mause     rat    cavy  rabbit     cat     dog   sheep    bull \n",
    "#     1       1       1       1       1       1       1       4 \n",
    "#   giraffe     pig   horse \n",
    "#       4       3       2 \n",
    "\n",
    "#в 1 класстер входят: mause, rat, cavy, rabbit, cat, dog, sheep.\n",
    "# во 2 => hourse, в 3 pig и в 4 bull, giraffe."
   ]
  },
  {
   "cell_type": "code",
   "execution_count": null,
   "id": "d06a569b-1e9c-408a-a138-23c10cccc51f",
   "metadata": {},
   "outputs": [],
   "source": [
    "#попробуем разделить всю совокупность на 2 класстера\n",
    "k2 = kmeans(kl1, 2)\n",
    "k2\n",
    "\n",
    "# K-means clustering with 2 clusters of sizes 8, 3\n",
    "\n",
    "# Clustering vector:\n",
    "#   mause     rat    cavy  rabbit     cat     dog   sheep    bull \n",
    "#   1       1       1       1       1       1       1       2 \n",
    "#   giraffe     pig   horse \n",
    "#   2       1       2 \n",
    "\n",
    "#в 1 класстер входят: mause, rat, cavy, rabbit, cat, dog, sheep, pig.\n",
    "# во 2 => hourse, bull, giraffe.\n",
    "\n",
    "#Вывод оба варианта разделены удачно, по результатом можно сделать вывод \n",
    "#что близкие по виду животные кластеризируются вместе "
   ]
  },
  {
   "cell_type": "code",
   "execution_count": 23,
   "id": "453c3f99-37c6-415b-aafe-e5033c6de0dc",
   "metadata": {},
   "outputs": [
    {
     "ename": "ERROR",
     "evalue": "Error in colMeans(x, na.rm = TRUE): 'x' должен быть числом\n",
     "output_type": "error",
     "traceback": [
      "Error in colMeans(x, na.rm = TRUE): 'x' должен быть числом\nTraceback:\n",
      "1. dist(scale(kl1), method = \"euclidean\")",
      "2. as.matrix(x)",
      "3. scale(kl1)",
      "4. scale.default(kl1)",
      "5. colMeans(x, na.rm = TRUE)"
     ]
    }
   ],
   "source": [
    "#выполним другие методы находжения опорных точек\n",
    "\n",
    "d = dist(scale(kl1), method = \"euclidean\")\n",
    "\n",
    "plot(hclust(d, method = \"average\" ), cex = 0.7, hang=-1)\n",
    "\n",
    "plot(hclust(d, method = \"complete\" ), cex = 0.7, hang=-1)"
   ]
  },
  {
   "cell_type": "code",
   "execution_count": 24,
   "id": "49908a10-6c54-4542-a9fb-4f7663e11d6e",
   "metadata": {},
   "outputs": [],
   "source": [
    "#Выполним построение \"нечетких\" кластеров для традиционного\n",
    "#использованием функции fanny() из пакета cluster:\n",
    "  \n",
    "library(cluster)\n",
    "set.seed(123)"
   ]
  },
  {
   "cell_type": "code",
   "execution_count": 25,
   "id": "60483de7-ea49-4a35-9618-82ad905ec664",
   "metadata": {},
   "outputs": [
    {
     "ename": "ERROR",
     "evalue": "Error in fanny(kl1, k = 4, memb.exp = 1.7, metric = \"euclidean\", stand = TRUE, : x is not a numeric dataframe or matrix.\n",
     "output_type": "error",
     "traceback": [
      "Error in fanny(kl1, k = 4, memb.exp = 1.7, metric = \"euclidean\", stand = TRUE, : x is not a numeric dataframe or matrix.\nTraceback:\n",
      "1. fanny(kl1, k = 4, memb.exp = 1.7, metric = \"euclidean\", stand = TRUE, \n .     maxit = 500)",
      "2. stop(\"x is not a numeric dataframe or matrix.\")"
     ]
    }
   ],
   "source": [
    "res.fanny = fanny(kl1, k = 4, memb.exp = 1.7,\n",
    "                   metric = \"euclidean\", stand = TRUE, maxit = 500)\n",
    "print(head(res.fanny$membership),3)\n",
    "res.fanny$coeff\n",
    "\n",
    "# При k = 4 в результате выводится матрица коэффициентов\n",
    "# принадлежности, максимальный из которых определяет назначаемый кластер.\n",
    "# Так из приведенного фрагмента mouse включен в кластер 1, а\n",
    "# cavy, rabbit в кластер 2, cat, dog в 3 и rat в 4 класстер.\n",
    "\n",
    "# dunn_coeff normalized \n",
    "# 0.6147356  0.4863141"
   ]
  },
  {
   "cell_type": "code",
   "execution_count": 26,
   "id": "272fd0bb-187e-46b6-a8fe-11edcc607b16",
   "metadata": {},
   "outputs": [
    {
     "ename": "ERROR",
     "evalue": "Error in fanny(kl1, k = 2, memb.exp = 1.7, metric = \"euclidean\", stand = TRUE, : x is not a numeric dataframe or matrix.\n",
     "output_type": "error",
     "traceback": [
      "Error in fanny(kl1, k = 2, memb.exp = 1.7, metric = \"euclidean\", stand = TRUE, : x is not a numeric dataframe or matrix.\nTraceback:\n",
      "1. fanny(kl1, k = 2, memb.exp = 1.7, metric = \"euclidean\", stand = TRUE, \n .     maxit = 500)",
      "2. stop(\"x is not a numeric dataframe or matrix.\")"
     ]
    }
   ],
   "source": [
    "res.fanny = fanny(kl1, k = 2, memb.exp = 1.7,\n",
    "                  metric = \"euclidean\", stand = TRUE, maxit = 500)\n",
    "print(head(res.fanny$membership),3)\n",
    "res.fanny$coeff\n",
    "# При k = 2 в результате выводится матрица коэффициентов\n",
    "# принадлежности, максимальный из которых определяет назначаемый кластер.\n",
    "# Так из приведенного фрагмента mouse включен в кластер 1: cavy, rabbit, cat, rat \n",
    "# а в 2 класстер dog.\n",
    "\n",
    "# dunn_coeff normalized \n",
    "# 0.6660869  0.3321737 \n",
    "\n",
    "#Серьезных изменений в dunn_coeff не произошло. \n",
    "#Так что, действовать нужно по велению исследовательского сердца:)"
   ]
  },
  {
   "cell_type": "code",
   "execution_count": null,
   "id": "275fe83d-b558-41d8-98c8-90a85f78b9b3",
   "metadata": {},
   "outputs": [],
   "source": []
  }
 ],
 "metadata": {
  "kernelspec": {
   "display_name": "R",
   "language": "R",
   "name": "ir"
  },
  "language_info": {
   "codemirror_mode": "r",
   "file_extension": ".r",
   "mimetype": "text/x-r-source",
   "name": "R",
   "pygments_lexer": "r",
   "version": "3.6.1"
  }
 },
 "nbformat": 4,
 "nbformat_minor": 5
}
